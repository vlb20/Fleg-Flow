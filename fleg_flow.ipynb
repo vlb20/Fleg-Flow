{
 "cells": [
  {
   "cell_type": "markdown",
   "metadata": {},
   "source": [
    "# Progetto di Ricerca Operativa: Piano di Evacuazione per i Campi Flegrei\n",
    "\n",
    "**Obiettivo:** Sviluppare un piano di evacuazione per l'area dei Campi Flegrei utilizzando il modello del **Flusso più Rapido (Quickest Flow)**.\n",
    "\n",
    "**Metodologia:** L'approccio si basa sulla teoria presentata nel paper \"Quickest Flows Over Time\" di Fleischer e Skutella. Poiché il problema generale è NP-hard, implementeremo l'**algoritmo di 2-approssimazione** descritto nella Sezione 3. Questo approccio riduce il complesso problema dinamico a una serie di problemi di **flusso statico a costo minimo**, risolvibili efficientemente."
   ]
  },
  {
   "cell_type": "markdown",
   "metadata": {},
   "source": [
    "## Fase 1: Modellazione Matematica\n",
    "\n",
    "In questa sezione, formalizziamo il problema utilizzando la notazione matematica standard per i flussi su rete."
   ]
  },
  {
   "cell_type": "markdown",
   "metadata": {},
   "source": [
    "### 1.1 Insiemi e Indici\n",
    "\n",
    "- $V$: Insieme dei **nodi** della rete (incroci, città).\n",
    "- $A$: Insieme degli **archi** orientati $(i, j)$ che rappresentano i tratti stradali, dove $i, j \\in V$.\n",
    "- $S \\subset V$: Sottoinsieme dei nodi che sono **sorgenti** (centri abitati da evacuare).\n",
    "- $P \\subset V$: Sottoinsieme dei nodi che sono **pozzi** (aree sicure, uscite dalla zona rossa)."
   ]
  },
  {
   "cell_type": "markdown",
   "metadata": {},
   "source": [
    "### 1.2 Parametri del Modello\n",
    "\n",
    "- $D_v$: **Popolazione** (o domanda) da evacuare dal nodo sorgente $v \\in S$. Si assume $D_v > 0$.\n",
    "- $D_{total}$: Popolazione totale da evacuare, $D_{total} = \\sum_{v \\in S} D_v$.\n",
    "- $u_e$: **Capacità** dell'arco $e \\in A$ (es. veicoli per ora).\n",
    "- $\\tau_e$: **Tempo di transito** per percorrere l'arco $e \\in A$ (es. in ore)."
   ]
  },
  {
   "cell_type": "markdown",
   "metadata": {},
   "source": [
    "### 1.3 Il Problema del Flusso più Rapido (Quickest Flow)\n",
    "\n",
    "Il problema originale consiste nel trovare il tempo minimo $T$ per inviare l'intera popolazione $D_{total}$ dalle sorgenti $S$ ai pozzi $P$. Questo richiede la definizione di variabili di flusso dinamiche $f_e(t)$ che dipendono dal tempo, rendendo il problema molto complesso.\n",
    "\n",
    "### 1.4 L'Approccio di Approssimazione: Riduzione a Flusso Statico a Costo Minimo\n",
    "\n",
    "Seguendo il paper di Fleischer e Skutella, invece di risolvere il problema dinamico, lo approssimiamo con un modello statico più semplice. L'idea è trovare un piano di flusso che minimizzi il \"tempo di viaggio totale\" accumulato da tutte le persone evacuate. Questo modello viene risolto all'interno di una ricerca binaria sul tempo totale di evacuazione $T$.\n",
    "\n",
    "#### Variabili di Decisione (Statiche)\n",
    "\n",
    "- $x_e$: **Flusso** statico sull'arco $e \\in A$ (numero totale di persone/veicoli che usano l'arco durante l'intera evacuazione)."
   ]
  },
  {
   "cell_type": "markdown",
   "metadata": {},
   "source": [
    "#### Formulazione del Flusso a Costo Minimo\n",
    "\n",
    "Per ogni tempo candidato $T$ nella nostra ricerca binaria, risolviamo il seguente problema di ottimizzazione:\n",
    "\n",
    "**Obiettivo:** Minimizzare il tempo di viaggio aggregato.\n",
    "$$ \\min Z = \\sum_{e \\in A} \\tau_e \\cdot x_e $$\n",
    "\n",
    "**Sotto i vincoli:**\n",
    "\n",
    "1.  **Conservazione del Flusso:** Per ogni nodo $i \\in V$, il flusso netto deve eguagliare l'offerta/domanda del nodo.\n",
    "    $$ \\sum_{j : (j,i) \\in A} x_{ji} - \\sum_{j : (i,j) \\in A} x_{ij} = -b_i \\quad \\forall i \\in V $$\n",
    "    dove:\n",
    "    - $b_i = D_i$ se $i \\in S$ (offerta).\n",
    "    - $b_i = -\\frac{D_{total}}{|P|}$ se $i \\in P$ (domanda, distribuita sui pozzi).\n",
    "    - $b_i = 0$ altrimenti (nodo di transito).\n",
    "\n",
    "2.  **Capacità degli Archi:** Il flusso su un arco non può superare la sua capacità. *Attenzione: la capacità del modello statico è legata al tempo $T$. La capacità istantanea $u_e$ (veicoli/ora) diventa una capacità totale $u_e \\cdot T$ sull'intero orizzonte temporale.*\n",
    "    $$ 0 \\le x_e \\le u_e \\cdot T \\quad \\forall e \\in A $$\n",
    "\n",
    "### 1.5 Framework della Ricerca Binaria\n",
    "\n",
    "1. Inizializza un intervallo di tempo $[T_{min}, T_{max}]$.\n",
    "2. Fintanto che $T_{max} - T_{min}$ è maggiore di una tolleranza:\n",
    "   a. Calcola un tempo di prova $T_{guess} = (T_{min} + T_{max}) / 2$.\n",
    "   b. Risolvi il problema di Flusso a Costo Minimo definito sopra, usando $T_{guess}$ per calcolare le capacità totali degli archi.\n",
    "   c. Se il problema è **infattibile**, significa che le capacità non sono sufficienti per far passare il flusso in tempo $T_{guess}$. Quindi, $T_{guess}$ è troppo basso. Aggiorna $T_{min} = T_{guess}$.\n",
    "   d. Se il problema è **fattibile**, abbiamo un piano. Non usiamo il costo per la decisione nella ricerca binaria, ma solo la fattibilità. Significa che un piano esiste per $T_{guess}$. Proviamo a ridurlo. Aggiorna $T_{max} = T_{guess}$.\n",
    "3. Il risultato è $T_{max}$, una stima del tempo minimo di evacuazione."
   ]
  },
  {
   "cell_type": "markdown",
   "metadata": {},
   "source": [
    "## Fase 2: Implementazione in Python con Gurobi\n",
    "\n",
    "Ora traduciamo il modello matematico in codice Python."
   ]
  },
  {
   "cell_type": "code",
   "execution_count": 1,
   "metadata": {},
   "outputs": [],
   "source": [
    "import gurobipy as gb\n",
    "import networkx as nx\n",
    "import matplotlib.pyplot as plt"
   ]
  },
  {
   "cell_type": "markdown",
   "metadata": {},
   "source": [
    "### 3. Definizione dei Dati di Esempio\n",
    "\n",
    "Creiamo un piccolo grafo di esempio per testare il nostro modello. **Questa è la sezione che dovrai sostituire con i tuoi dati reali** ottenuti da OpenStreetMap (con OSMnx) e ISTAT."
   ]
  },
  {
   "cell_type": "code",
   "execution_count": 2,
   "metadata": {},
   "outputs": [
    {
     "data": {
      "image/png": "[encoded data removed]",
      "text/plain": [
       "<Figure size 432x288 with 1 Axes>"
      ]
     },
     "metadata": {},
     "output_type": "display_data"
    }
   ],
   "source": [
    "# 1. Creare un grafo di esempio con NetworkX\n",
    "G = nx.DiGraph()\n",
    "\n",
    "# Aggiungi archi con attributi: capacità (veicoli/ora) e tempo di transito tau (ore)\n",
    "G.add_edge('Pozzuoli', 'IncrocioA', capacity=2000, tau=0.2) # 12 minuti\n",
    "G.add_edge('Bacoli', 'IncrocioA', capacity=1500, tau=0.3)\n",
    "G.add_edge('IncrocioA', 'Uscita_Tangenziale', capacity=3000, tau=0.1)\n",
    "G.add_edge('Pozzuoli', 'IncrocioB', capacity=1000, tau=0.4)\n",
    "G.add_edge('IncrocioB', 'Uscita_Domitiana', capacity=2500, tau=0.5)\n",
    "\n",
    "# 2. Definire sorgenti e pozzi\n",
    "population_sources = {'Pozzuoli': 50000, 'Bacoli': 20000}\n",
    "sink_nodes = ['Uscita_Tangenziale', 'Uscita_Domitiana']\n",
    "\n",
    "# Visualizza il grafo per un controllo\n",
    "pos = nx.spring_layout(G)\n",
    "nx.draw(G, pos, with_labels=True, node_size=2000, node_color='lightblue', font_size=10)\n",
    "edge_labels = nx.get_edge_attributes(G, 'capacity')\n",
    "nx.draw_networkx_edge_labels(G, pos, edge_labels=edge_labels)\n",
    "plt.title(\"Rete di Evacuazione di Esempio\")\n",
    "plt.show()"
   ]
  },
  {
   "cell_type": "markdown",
   "metadata": {},
   "source": [
    "### 4. Funzione per Risolvere il Flusso Statico (Gurobi)\n",
    "\n",
    "Questa funzione implementa il modello di flusso a costo minimo descritto matematicamente sopra. Prende in input il tempo candidato $T$ per calcolare le capacità totali."
   ]
  },
  {
   "cell_type": "code",
   "execution_count": null,
   "metadata": {},
   "outputs": [],
   "source": [
    "def solve_static_flow(graph, supplies, T):\n",
    "    \"\"\"\n",
    "    Risolve il problema del flusso a costo minimo per un dato orizzonte temporale T.\n",
    "    \"\"\"\n",
    "    model = gb.Model(\"StaticFlowForEvacuation\")\n",
    "\n",
    "    # Variabili: flusso su ogni arco\n",
    "    x = model.addVars(graph.edges(), name=\"flow\", lb=0)\n",
    "\n",
    "    # Obiettivo: minimizzare il costo (tempo di viaggio totale)\n",
    "    model.setObjective(\n",
    "        gb.quicksum(graph.edges[u, v]['tau'] * x[u, v] for u, v in graph.edges()),\n",
    "        gb.GRB.MINIMIZE\n",
    "    )\n",
    "\n",
    "    # Vincoli di capacità totale per l'orizzonte T\n",
    "    model.addConstrs(\n",
    "        (x[u, v] <= graph.edges[u, v]['capacity'] * T for u, v in graph.edges()),\n",
    "        name=\"capacity\"\n",
    "    )\n",
    "\n",
    "    # Vincoli di conservazione del flusso\n",
    "    for node in graph.nodes():\n",
    "        flow_out = gb.quicksum(x[node, v] for u, v in graph.out_edges(node))\n",
    "        flow_in = gb.quicksum(x[u, node] for u, v in graph.in_edges(node))\n",
    "        supply = supplies.get(node, 0)\n",
    "        model.addConstr((flow_out - flow_in == supply), name=f\"flow_conservation_{node}\")\n",
    "\n",
    "    model.setParam('OutputFlag', 0)\n",
    "    model.optimize()\n",
    "\n",
    "    if model.Status == gb.GRB.OPTIMAL:\n",
    "        flow_plan = {uv: x[uv].X for uv in x}\n",
    "        return True, flow_plan # Restituisce la fattibilità e il piano\n",
    "    else:\n",
    "        return False, None # Il problema è infattibile per questo T"
   ]
  },
  {
   "cell_type": "markdown",
   "metadata": {},
   "source": [
    "### 5. Algoritmo di Ricerca Binaria\n",
    "\n",
    "Questa funzione principale orchestra il processo, chiamando il solutore Gurobi all'interno del loop di ricerca."
   ]
  },
  {
   "cell_type": "code",
   "execution_count": null,
   "metadata": {},
   "outputs": [],
   "source": [
    "def find_quickest_evacuation_time(graph, population_sources, sink_nodes):\n",
    "    total_population = sum(population_sources.values())\n",
    "\n",
    "    supplies = {node: pop for node, pop in population_sources.items()}\n",
    "    if sink_nodes:\n",
    "        demand_per_sink = -total_population / len(sink_nodes)\n",
    "        for node in sink_nodes:\n",
    "            supplies[node] = demand_per_sink\n",
    "\n",
    "    print(f\"Inizio ricerca del tempo di evacuazione per {total_population} persone.\")\n",
    "\n",
    "    # Stime iniziali per T\n",
    "    T_min = 0\n",
    "    T_max = 24 # Limite superiore iniziale (es. 24 ore)\n",
    "\n",
    "    # Prima verifichiamo se T_max è fattibile, altrimenti lo aumentiamo\n",
    "    is_feasible, _ = solve_static_flow(graph, supplies, T_max)\n",
    "    while not is_feasible:\n",
    "        print(f\"Il limite superiore T_max={T_max} ore non è sufficiente. Raddoppio.\")\n",
    "        T_max *= 2\n",
    "        is_feasible, _ = solve_static_flow(graph, supplies, T_max)\n",
    "\n",
    "    print(f\"Trovato un limite superiore fattibile: {T_max} ore. Inizio ricerca binaria.\")\n",
    "\n",
    "    tolerance = 0.01 # Tolleranza in ore (circa 36 secondi)\n",
    "    optimal_time = T_max\n",
    "    final_flow_plan = None\n",
    "\n",
    "    for i in range(100): # Limita le iterazioni per sicurezza\n",
    "        if T_max - T_min <= tolerance:\n",
    "            break\n",
    "\n",
    "        T_guess = (T_min + T_max) / 2\n",
    "        print(f\"Iterazione {i+1}: Intervallo [{T_min:.2f}, {T_max:.2f}], Tento T = {T_guess:.2f}\")\n",
    "\n",
    "        is_feasible, flow_plan = solve_static_flow(graph, supplies, T_guess)\n",
    "\n",
    "        if is_feasible:\n",
    "            # Se fattibile, T_guess diventa il nuovo massimo e salviamo la soluzione\n",
    "            T_max = T_guess\n",
    "            optimal_time = T_guess\n",
    "            final_flow_plan = flow_plan\n",
    "        else:\n",
    "            # Se non fattibile, T_guess è troppo basso\n",
    "            T_min = T_guess\n",
    "\n",
    "    return optimal_time, final_flow_plan"
   ]
  },
  {
   "cell_type": "markdown",
   "metadata": {},
   "source": [
    "### 6. Esecuzione e Analisi dei Risultati"
   ]
  },
  {
   "cell_type": "code",
   "execution_count": 6,
   "metadata": {},
   "outputs": [
    {
     "name": "stdout",
     "output_type": "stream",
     "text": [
      "Inizio ricerca del tempo di evacuazione per 70000 persone.\n",
      "Set parameter Username\n",
      "Set parameter LicenseID to value 2633434\n",
      "Academic license - for non-commercial use only - expires 2026-03-07\n",
      "Il limite superiore T_max=24 ore non è sufficiente. Raddoppio.\n",
      "Trovato un limite superiore fattibile: 48 ore. Inizio ricerca binaria.\n",
      "Iterazione 1: Intervallo [0.00, 48.00], Tento T = 24.00\n",
      "Iterazione 2: Intervallo [24.00, 48.00], Tento T = 36.00\n",
      "Iterazione 3: Intervallo [24.00, 36.00], Tento T = 30.00\n",
      "Iterazione 4: Intervallo [30.00, 36.00], Tento T = 33.00\n",
      "Iterazione 5: Intervallo [33.00, 36.00], Tento T = 34.50\n",
      "Iterazione 6: Intervallo [34.50, 36.00], Tento T = 35.25\n",
      "Iterazione 7: Intervallo [34.50, 35.25], Tento T = 34.88\n",
      "Iterazione 8: Intervallo [34.88, 35.25], Tento T = 35.06\n",
      "Iterazione 9: Intervallo [34.88, 35.06], Tento T = 34.97\n",
      "Iterazione 10: Intervallo [34.97, 35.06], Tento T = 35.02\n",
      "Iterazione 11: Intervallo [34.97, 35.02], Tento T = 34.99\n",
      "Iterazione 12: Intervallo [34.99, 35.02], Tento T = 35.00\n",
      "Iterazione 13: Intervallo [34.99, 35.00], Tento T = 35.00\n",
      "\n",
      "--- PIANO DI EVACUAZIONE TROVATO ---\n",
      "Tempo di evacuazione stimato: 35.00 ore\n",
      "Nota: Questo è il risultato della 2-approssimazione. Il tempo ottimale reale non è superiore a questo valore, e non è inferiore a best_time/2.\n",
      "\n",
      "Flusso totale per ogni strada (persone/veicoli sull'intero periodo):\n",
      "  - Da Pozzuoli a IncrocioA: 15000 persone [Saturazione: 21.4%]\n",
      "  - Da Pozzuoli a IncrocioB: 35000 persone [Saturazione: 100.0%]\n",
      "  - Da IncrocioA a Uscita_Tangenziale: 35000 persone [Saturazione: 33.3%]\n",
      "  - Da Bacoli a IncrocioA: 20000 persone [Saturazione: 38.1%]\n",
      "  - Da IncrocioB a Uscita_Domitiana: 35000 persone [Saturazione: 40.0%]\n",
      "\n",
      "Flusso totale in uscita dalle sorgenti: 70000\n",
      "Popolazione totale da evacuare: 70000\n"
     ]
    }
   ],
   "source": [
    "best_time, evacuation_plan = find_quickest_evacuation_time(G, population_sources, sink_nodes)\n",
    "\n",
    "if best_time is not None:\n",
    "    print(\"\\n--- PIANO DI EVACUAZIONE TROVATO ---\")\n",
    "    print(f\"Tempo di evacuazione stimato: {best_time:.2f} ore\")\n",
    "    print(\"Nota: Questo è il risultato della 2-approssimazione. Il tempo ottimale reale non è superiore a questo valore, e non è inferiore a best_time/2.\")\n",
    "\n",
    "    print(\"\\nFlusso totale per ogni strada (persone/veicoli sull'intero periodo):\")\n",
    "    total_flow_out = 0\n",
    "    for (u, v), flow_val in evacuation_plan.items():\n",
    "        if flow_val > 1e-6: # Mostra solo gli archi usati\n",
    "            capacity_total = G.edges[u,v]['capacity'] * best_time\n",
    "            saturation = (flow_val / capacity_total) * 100\n",
    "            print(f\"  - Da {u} a {v}: {flow_val:.0f} persone [Saturazione: {saturation:.1f}%]\")\n",
    "            if u in population_sources:\n",
    "                total_flow_out += flow_val\n",
    "\n",
    "    print(f\"\\nFlusso totale in uscita dalle sorgenti: {total_flow_out:.0f}\")\n",
    "    print(f\"Popolazione totale da evacuare: {sum(population_sources.values())}\")\n",
    "else:\n",
    "    print(\"Non è stato possibile trovare un piano di evacuazione.\")"
   ]
  },
  {
   "cell_type": "markdown",
   "metadata": {},
   "source": [
    "### 7. Conclusioni e Sviluppi Futuri\n",
    "\n",
    "Questo notebook ha implementato un algoritmo di 2-approssimazione per il problema del flusso più rapido, fornendo un piano di evacuazione e una stima del tempo necessario.\n",
    "\n",
    "**Come interpretare i risultati:**\n",
    "- Il **tempo di evacuazione** è la stima del tempo minimo necessario per completare l'operazione.\n",
    "- Il **piano di flusso** indica quante persone/veicoli dovrebbero percorrere ogni strada durante l'intera evacuazione.\n",
    "- La **saturazione** è l'indicatore più importante: strade con saturazione vicina al 100% sono i **colli di bottiglia** del sistema. Qualsiasi intervento per migliorare i tempi di evacuazione dovrebbe concentrarsi su queste strade.\n",
    "\n",
    "**Sviluppi futuri:**\n",
    "1. **Integrazione Dati Reali:** Sostituire il grafo di esempio con i dati reali della rete stradale dei Campi Flegrei (da OSMnx) e della popolazione (da ISTAT).\n",
    "2. **Visualizzazione Geografica:** Usare `Folium` o `GeoPandas` per visualizzare il piano di evacuazione su una mappa, colorando le strade in base al flusso o alla saturazione.\n",
    "3. **Modello più Avanzato:** Considerare estensioni come l'evacuazione per fasi (non tutti partono contemporaneamente) o l'inclusione di diverse modalità di trasporto.\n",
    "4. **Implementazione FPTAS:** Per una maggiore precisione, si potrebbe implementare l'approccio FPTAS dalla Sezione 4 del paper di Fleischer e Skutella, costruendo la rete condensata espansa nel tempo."
   ]
  }
 ],
 "metadata": {
  "kernelspec": {
   "display_name": "aocr",
   "language": "python",
   "name": "python3"
  },
  "language_info": {
   "codemirror_mode": {
    "name": "ipython",
    "version": 3
   },
   "file_extension": ".py",
   "mimetype": "text/x-python",
   "name": "python",
   "nbconvert_exporter": "python",
   "pygments_lexer": "ipython3",
   "version": "3.9.12"
  }
 },
 "nbformat": 4,
 "nbformat_minor": 4
}
